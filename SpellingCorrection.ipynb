{
  "nbformat": 4,
  "nbformat_minor": 0,
  "metadata": {
    "colab": {
      "provenance": []
    },
    "kernelspec": {
      "name": "python3",
      "display_name": "Python 3"
    },
    "language_info": {
      "name": "python"
    }
  },
  "cells": [
    {
      "cell_type": "code",
      "execution_count": 1,
      "metadata": {
        "colab": {
          "base_uri": "https://localhost:8080/"
        },
        "id": "Qz9FOKxPQlf7",
        "outputId": "9ef65e9e-8de6-489d-8570-2c5e2bf55e11"
      },
      "outputs": [
        {
          "output_type": "stream",
          "name": "stdout",
          "text": [
            "Collecting symspellpy\n",
            "  Downloading symspellpy-6.7.8-py3-none-any.whl.metadata (3.9 kB)\n",
            "Collecting editdistpy>=0.1.3 (from symspellpy)\n",
            "  Downloading editdistpy-0.1.5-cp310-cp310-manylinux_2_5_x86_64.manylinux1_x86_64.manylinux_2_17_x86_64.manylinux2014_x86_64.whl.metadata (7.9 kB)\n",
            "Downloading symspellpy-6.7.8-py3-none-any.whl (2.6 MB)\n",
            "\u001b[2K   \u001b[90m━━━━━━━━━━━━━━━━━━━━━━━━━━━━━━━━━━━━━━━━\u001b[0m \u001b[32m2.6/2.6 MB\u001b[0m \u001b[31m20.5 MB/s\u001b[0m eta \u001b[36m0:00:00\u001b[0m\n",
            "\u001b[?25hDownloading editdistpy-0.1.5-cp310-cp310-manylinux_2_5_x86_64.manylinux1_x86_64.manylinux_2_17_x86_64.manylinux2014_x86_64.whl (144 kB)\n",
            "\u001b[2K   \u001b[90m━━━━━━━━━━━━━━━━━━━━━━━━━━━━━━━━━━━━━━━━\u001b[0m \u001b[32m144.1/144.1 kB\u001b[0m \u001b[31m10.7 MB/s\u001b[0m eta \u001b[36m0:00:00\u001b[0m\n",
            "\u001b[?25hInstalling collected packages: editdistpy, symspellpy\n",
            "Successfully installed editdistpy-0.1.5 symspellpy-6.7.8\n",
            "--2024-11-17 18:46:24--  https://github.com/mammothb/symspellpy/raw/master/frequency_dictionary_en_82_765.txt\n",
            "Resolving github.com (github.com)... 20.27.177.113\n",
            "Connecting to github.com (github.com)|20.27.177.113|:443... connected.\n",
            "HTTP request sent, awaiting response... 404 Not Found\n",
            "2024-11-17 18:46:25 ERROR 404: Not Found.\n",
            "\n"
          ]
        },
        {
          "output_type": "stream",
          "name": "stderr",
          "text": [
            "2024-11-17 18:46:25,551: E symspellpy.symspellpy] Dictionary file not found at frequency_dictionary_en_82_765.txt.\n",
            "ERROR:symspellpy.symspellpy:Dictionary file not found at frequency_dictionary_en_82_765.txt.\n"
          ]
        },
        {
          "output_type": "stream",
          "name": "stdout",
          "text": [
            "Original Text with Errors:\n",
            "\n",
            "The sun had barely risen over long island when Emily stepped onto the platform at Babylon station. Her usual routine catch the 7:15 am train to Atlantic terminal in Brooklyn. But today like so many others, the schedule wasn’t cooperating. The screen blinked “delayed.” A familiar wave of frustration washed over her as she joined the cluster of commuters clutching their coffees waiting for news.\n",
            "\n",
            "“This is getting out of hand,” grumbled a man in a Yankees cap beside her “why cant they just run direct trains from Babylon to Brooklyn it’s always this nonsense at Jamaica”\n",
            "\n",
            "Emily nodded silently. The man’s complaint echoing her own thoughts she dreaded the transfer at Jamaica Station a labyrinth of platforms and delays that turned a straightforward commute into a guessing game. Why couldn’t the Long Island railroad add a direct route with so many people traveling from the South shore to Brooklyn it only made sense\n",
            "\n",
            "\n",
            "Corrected Text:\n",
            "\n",
            "The sun had barely risen over long island when Emily stepped onto the platform at Babylon station. Her usual routine catch the 7:15 am train to Atlantic terminal in Brooklyn. But today like so many others, the schedule wasn’t cooperating. The screen blinked “delayed.” A familiar wave of frustration washed over her as she joined the cluster of commuters clutching their coffees waiting for news.\n",
            "\n",
            "“This is getting out of hand,” grumbled a man in a Yankees cap beside her “why cant they just run direct trains from Babylon to Brooklyn it’s always this nonsense at Jamaica”\n",
            "\n",
            "Emily nodded silently. The man’s complaint echoing her own thoughts she dreaded the transfer at Jamaica Station a labyrinth of platforms and delays that turned a straightforward commute into a guessing game. Why couldn’t the Long Island railroad add a direct route with so many people traveling from the South shore to Brooklyn it only made sense\n",
            "\n"
          ]
        }
      ],
      "source": [
        "# Install SymSpell library\n",
        "!pip install symspellpy\n",
        "\n",
        "# Import libraries\n",
        "from symspellpy.symspellpy import SymSpell, Verbosity\n",
        "import os\n",
        "\n",
        "# Initialize SymSpell\n",
        "def initialize_symspell():\n",
        "    # Maximum edit distance for lookup\n",
        "    max_edit_distance_dictionary = 2\n",
        "    prefix_length = 7\n",
        "    sym_spell = SymSpell(max_edit_distance_dictionary, prefix_length)\n",
        "\n",
        "    # Dictionary\n",
        "    dictionary_path = \"frequency_dictionary_en_82_765.txt\"\n",
        "    if not os.path.exists(dictionary_path):\n",
        "        !wget https://github.com/mammothb/symspellpy/raw/master/frequency_dictionary_en_82_765.txt\n",
        "\n",
        "    # Load the frequency dictionary\n",
        "    sym_spell.load_dictionary(dictionary_path, term_index=0, count_index=1)\n",
        "    return sym_spell\n",
        "\n",
        "# Correct text\n",
        "def correct_text(sym_spell, text):\n",
        "    corrected_lines = []\n",
        "    for line in text.split('\\n'):\n",
        "        corrected_words = []\n",
        "        for word in line.split(' '):\n",
        "            # Look up each word in the dictionary\n",
        "            suggestions = sym_spell.lookup(word.strip(), Verbosity.CLOSEST, max_edit_distance=2)\n",
        "            corrected_words.append(suggestions[0].term if suggestions else word)\n",
        "        corrected_lines.append(' '.join(corrected_words))\n",
        "    return '\\n'.join(corrected_lines)\n",
        "\n",
        "# Input text with errors\n",
        "text_with_errors = \"\"\"\n",
        "The sun had barely risen over long island when Emily stepped onto the platform at Babylon station. Her usual routine catch the 7:15 am train to Atlantic terminal in Brooklyn. But today like so many others, the schedule wasn’t cooperating. The screen blinked “delayed.” A familiar wave of frustration washed over her as she joined the cluster of commuters clutching their coffees waiting for news.\n",
        "\n",
        "“This is getting out of hand,” grumbled a man in a Yankees cap beside her “why cant they just run direct trains from Babylon to Brooklyn it’s always this nonsense at Jamaica”\n",
        "\n",
        "Emily nodded silently. The man’s complaint echoing her own thoughts she dreaded the transfer at Jamaica Station a labyrinth of platforms and delays that turned a straightforward commute into a guessing game. Why couldn’t the Long Island railroad add a direct route with so many people traveling from the South shore to Brooklyn it only made sense\n",
        "\"\"\"\n",
        "\n",
        "# Initialize SymSpell and correct text\n",
        "sym_spell = initialize_symspell()\n",
        "corrected_text = correct_text(sym_spell, text_with_errors)\n",
        "\n",
        "print(\"Original Text with Errors:\")\n",
        "print(text_with_errors)\n",
        "print(\"\\nCorrected Text:\")\n",
        "print(corrected_text)\n"
      ]
    }
  ]
}